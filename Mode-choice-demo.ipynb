{
 "cells": [
  {
   "cell_type": "code",
   "execution_count": 25,
   "metadata": {
    "collapsed": false
   },
   "outputs": [],
   "source": [
    "import lccm\n",
    "import numpy as np\n",
    "import pandas as pd\n",
    "import pylogit\n",
    "from collections import OrderedDict"
   ]
  },
  {
   "cell_type": "code",
   "execution_count": 3,
   "metadata": {
    "collapsed": false
   },
   "outputs": [],
   "source": [
    "df = pd.DataFrame.from_csv('data/valueOfGreen.dat', sep='\\t', index_col=None)"
   ]
  },
  {
   "cell_type": "code",
   "execution_count": 4,
   "metadata": {
    "collapsed": false
   },
   "outputs": [
    {
     "data": {
      "text/plain": [
       "array(['ID', 'Question', 'CHOICE', 'A1_AV', 'A2_AV', 'B1_AV', 'B2_AV',\n",
       "       'T_AV', 'K_AV', 'W_AV', 'TT_A1', 'C_A1', 'GG_A1', 'TT_A2', 'C_A2',\n",
       "       'GG_A2', 'TT_B1', 'C_B1', 'GG_B1', 'TT_B2', 'C_B2', 'GG_B2', 'TT_T',\n",
       "       'C_T', 'GG_T', 'TT_K', 'TT_W', 'GENDER', 'VEG', 'CAR_OWNER',\n",
       "       'INCOME', 'INDENV1', 'INDENV2', 'INDENV3', 'INDENV4', 'INDENV5',\n",
       "       'INDENV6', 'INDENV7', 'INDENV8', 'INDENV9', 'INDENV10', 'INDENV11',\n",
       "       'INDENV12', 'INDPT1', 'INDPT2', 'INDPT3', 'INDPT4', 'INDPT5',\n",
       "       'INDAUTO1', 'INDAUTO2', 'INDAUTO3', 'INDAUTO4', 'INDAUTO5',\n",
       "       'INDAUTO6', 'INDAUTO7'], dtype=object)"
      ]
     },
     "execution_count": 4,
     "metadata": {},
     "output_type": "execute_result"
    }
   ],
   "source": [
    "df.columns.values"
   ]
  },
  {
   "cell_type": "markdown",
   "metadata": {
    "collapsed": true
   },
   "source": [
    "### Alternative id's\n",
    "\n",
    "- 1 = Auto 1\n",
    "- 2 = Auto 2\n",
    "- 3 = Bus 1\n",
    "- 4 = Bus 2\n",
    "- 5 = Train\n",
    "- 6 = Walk\n",
    "- 7 = Bicycle"
   ]
  },
  {
   "cell_type": "code",
   "execution_count": 6,
   "metadata": {
    "collapsed": false
   },
   "outputs": [],
   "source": [
    "ind_vars = ['ID', 'GENDER', 'VEG', 'CAR_OWNER', 'INCOME']\n",
    "\n",
    "alt_varying_vars = {'travel_time': dict([(1, 'TT_A1'), (2, 'TT_A2'), (3, 'TT_B1'), \n",
    "                                (4, 'TT_B2'), (5, 'TT_T'), (6, 'TT_K'), (7, 'TT_W')]),\n",
    "                    'travel_cost': dict([(1, 'C_A1'), (2, 'C_A2'), (3, 'C_B1'),\n",
    "                                (4, 'C_B2'), (5, 'C_T')]),\n",
    "                    'emissions': dict([(1, 'GG_A1'), (2, 'GG_A2'), (3, 'GG_B1'), \n",
    "                                (4, 'GG_B2'), (5, 'GG_T')])}\n",
    "\n",
    "availability_vars = {1: 'A1_AV', 2: 'A2_AV', 3: 'B1_AV', 4: 'B2_AV', 5: 'T_AV', 6: 'K_AV', 7: 'W_AV'}\n",
    "\n",
    "alt_id_col = 'ALT_ID'\n",
    "\n",
    "# 'ID' is the decision-maker, but there are multiple observations (choice scenarios) for each\n",
    "df['OBS_ID'] = np.arange(df.shape[0], dtype=int) + 1\n",
    "obs_id_col = 'OBS_ID'\n",
    "\n",
    "choice_col = 'CHOICE'\n",
    "\n",
    "data = pylogit.convert_wide_to_long(df, ind_vars, alt_varying_vars, \n",
    "                availability_vars, obs_id_col, choice_col, new_alt_id_name=alt_id_col)"
   ]
  },
  {
   "cell_type": "code",
   "execution_count": 7,
   "metadata": {
    "collapsed": false
   },
   "outputs": [
    {
     "data": {
      "text/html": [
       "<div>\n",
       "<table border=\"1\" class=\"dataframe\">\n",
       "  <thead>\n",
       "    <tr style=\"text-align: right;\">\n",
       "      <th></th>\n",
       "      <th>OBS_ID</th>\n",
       "      <th>ALT_ID</th>\n",
       "      <th>CHOICE</th>\n",
       "      <th>ID</th>\n",
       "      <th>GENDER</th>\n",
       "      <th>VEG</th>\n",
       "      <th>CAR_OWNER</th>\n",
       "      <th>INCOME</th>\n",
       "      <th>travel_time</th>\n",
       "      <th>emissions</th>\n",
       "      <th>travel_cost</th>\n",
       "    </tr>\n",
       "  </thead>\n",
       "  <tbody>\n",
       "    <tr>\n",
       "      <th>count</th>\n",
       "      <td>5010.000000</td>\n",
       "      <td>5010.000000</td>\n",
       "      <td>5010.000000</td>\n",
       "      <td>5010.000000</td>\n",
       "      <td>5010.000000</td>\n",
       "      <td>5010.000000</td>\n",
       "      <td>5010.000000</td>\n",
       "      <td>5010.000000</td>\n",
       "      <td>5010.000000</td>\n",
       "      <td>5010.000000</td>\n",
       "      <td>5010.000000</td>\n",
       "    </tr>\n",
       "    <tr>\n",
       "      <th>mean</th>\n",
       "      <td>835.500000</td>\n",
       "      <td>3.833333</td>\n",
       "      <td>0.333333</td>\n",
       "      <td>167.500000</td>\n",
       "      <td>1.586826</td>\n",
       "      <td>0.062874</td>\n",
       "      <td>1.847305</td>\n",
       "      <td>1.254491</td>\n",
       "      <td>46.968663</td>\n",
       "      <td>2.670619</td>\n",
       "      <td>1.901547</td>\n",
       "    </tr>\n",
       "    <tr>\n",
       "      <th>std</th>\n",
       "      <td>482.135508</td>\n",
       "      <td>2.034629</td>\n",
       "      <td>0.471452</td>\n",
       "      <td>96.426687</td>\n",
       "      <td>0.498497</td>\n",
       "      <td>0.242761</td>\n",
       "      <td>0.428145</td>\n",
       "      <td>1.642938</td>\n",
       "      <td>63.853640</td>\n",
       "      <td>2.652327</td>\n",
       "      <td>1.727593</td>\n",
       "    </tr>\n",
       "    <tr>\n",
       "      <th>min</th>\n",
       "      <td>1.000000</td>\n",
       "      <td>1.000000</td>\n",
       "      <td>0.000000</td>\n",
       "      <td>1.000000</td>\n",
       "      <td>1.000000</td>\n",
       "      <td>0.000000</td>\n",
       "      <td>1.000000</td>\n",
       "      <td>0.000000</td>\n",
       "      <td>8.000000</td>\n",
       "      <td>0.000000</td>\n",
       "      <td>0.000000</td>\n",
       "    </tr>\n",
       "    <tr>\n",
       "      <th>25%</th>\n",
       "      <td>418.000000</td>\n",
       "      <td>2.000000</td>\n",
       "      <td>0.000000</td>\n",
       "      <td>84.000000</td>\n",
       "      <td>1.000000</td>\n",
       "      <td>0.000000</td>\n",
       "      <td>2.000000</td>\n",
       "      <td>1.000000</td>\n",
       "      <td>15.000000</td>\n",
       "      <td>0.000000</td>\n",
       "      <td>0.000000</td>\n",
       "    </tr>\n",
       "    <tr>\n",
       "      <th>50%</th>\n",
       "      <td>835.500000</td>\n",
       "      <td>3.500000</td>\n",
       "      <td>0.000000</td>\n",
       "      <td>167.500000</td>\n",
       "      <td>2.000000</td>\n",
       "      <td>0.000000</td>\n",
       "      <td>2.000000</td>\n",
       "      <td>1.000000</td>\n",
       "      <td>30.000000</td>\n",
       "      <td>2.300000</td>\n",
       "      <td>1.500000</td>\n",
       "    </tr>\n",
       "    <tr>\n",
       "      <th>75%</th>\n",
       "      <td>1253.000000</td>\n",
       "      <td>6.000000</td>\n",
       "      <td>1.000000</td>\n",
       "      <td>251.000000</td>\n",
       "      <td>2.000000</td>\n",
       "      <td>0.000000</td>\n",
       "      <td>2.000000</td>\n",
       "      <td>1.000000</td>\n",
       "      <td>60.000000</td>\n",
       "      <td>4.500000</td>\n",
       "      <td>3.000000</td>\n",
       "    </tr>\n",
       "    <tr>\n",
       "      <th>max</th>\n",
       "      <td>1670.000000</td>\n",
       "      <td>7.000000</td>\n",
       "      <td>1.000000</td>\n",
       "      <td>334.000000</td>\n",
       "      <td>3.000000</td>\n",
       "      <td>1.000000</td>\n",
       "      <td>3.000000</td>\n",
       "      <td>9.000000</td>\n",
       "      <td>400.000000</td>\n",
       "      <td>10.000000</td>\n",
       "      <td>6.000000</td>\n",
       "    </tr>\n",
       "  </tbody>\n",
       "</table>\n",
       "</div>"
      ],
      "text/plain": [
       "            OBS_ID       ALT_ID       CHOICE           ID       GENDER  \\\n",
       "count  5010.000000  5010.000000  5010.000000  5010.000000  5010.000000   \n",
       "mean    835.500000     3.833333     0.333333   167.500000     1.586826   \n",
       "std     482.135508     2.034629     0.471452    96.426687     0.498497   \n",
       "min       1.000000     1.000000     0.000000     1.000000     1.000000   \n",
       "25%     418.000000     2.000000     0.000000    84.000000     1.000000   \n",
       "50%     835.500000     3.500000     0.000000   167.500000     2.000000   \n",
       "75%    1253.000000     6.000000     1.000000   251.000000     2.000000   \n",
       "max    1670.000000     7.000000     1.000000   334.000000     3.000000   \n",
       "\n",
       "               VEG    CAR_OWNER       INCOME  travel_time    emissions  \\\n",
       "count  5010.000000  5010.000000  5010.000000  5010.000000  5010.000000   \n",
       "mean      0.062874     1.847305     1.254491    46.968663     2.670619   \n",
       "std       0.242761     0.428145     1.642938    63.853640     2.652327   \n",
       "min       0.000000     1.000000     0.000000     8.000000     0.000000   \n",
       "25%       0.000000     2.000000     1.000000    15.000000     0.000000   \n",
       "50%       0.000000     2.000000     1.000000    30.000000     2.300000   \n",
       "75%       0.000000     2.000000     1.000000    60.000000     4.500000   \n",
       "max       1.000000     3.000000     9.000000   400.000000    10.000000   \n",
       "\n",
       "       travel_cost  \n",
       "count  5010.000000  \n",
       "mean      1.901547  \n",
       "std       1.727593  \n",
       "min       0.000000  \n",
       "25%       0.000000  \n",
       "50%       1.500000  \n",
       "75%       3.000000  \n",
       "max       6.000000  "
      ]
     },
     "execution_count": 7,
     "metadata": {},
     "output_type": "execute_result"
    }
   ],
   "source": [
    "data.describe()"
   ]
  },
  {
   "cell_type": "code",
   "execution_count": null,
   "metadata": {
    "collapsed": false
   },
   "outputs": [],
   "source": []
  },
  {
   "cell_type": "code",
   "execution_count": 18,
   "metadata": {
    "collapsed": true
   },
   "outputs": [],
   "source": [
    "ind_id_col = 'ID'\n",
    "obs_id_col = 'OBS_ID'\n",
    "alt_id_col = 'ALT_ID'\n",
    "choice_col = 'CHOICE'"
   ]
  },
  {
   "cell_type": "markdown",
   "metadata": {},
   "source": [
    "### Multinomial logit"
   ]
  },
  {
   "cell_type": "code",
   "execution_count": 49,
   "metadata": {
    "collapsed": false
   },
   "outputs": [],
   "source": [
    "# base case is alt_id = 7 (walking)\n",
    "\n",
    "spec =  OrderedDict([\n",
    "            ('intercept', [1, 2, 3, 4, 5, 6]),\n",
    "            ('travel_time', [[1, 2, 3, 4, 5, 6, 7]]),\n",
    "            ('travel_cost', [[1, 2, 3, 4, 5, 6, 7]]),\n",
    "            ('emissions', [[1, 2, 3, 4, 5, 6, 7]])\n",
    "        ])\n",
    "\n",
    "labels = OrderedDict([\n",
    "            ('intercept', ['asc_drive1', 'asc_drive1', 'asc_bus1', 'asc_bus2', 'asc_train', 'asc_bike']),\n",
    "            ('travel_time', ['travel time']), \n",
    "            ('travel_cost', ['travel cost']),\n",
    "            ('emissions', ['emissions'])\n",
    "        ])"
   ]
  },
  {
   "cell_type": "code",
   "execution_count": 58,
   "metadata": {
    "collapsed": false
   },
   "outputs": [
    {
     "name": "stdout",
     "output_type": "stream",
     "text": [
      "Log-likelihood at zero: -1,834.6825\n",
      "Initial Log-likelihood: -76,810.5580\n",
      "Estimation Time: 0.04 seconds.\n",
      "Final log-likelihood: -1,834.6825\n",
      "                     Multinomial Logit Model Regression Results                    \n",
      "===================================================================================\n",
      "Dep. Variable:                      CHOICE   No. Observations:                1,670\n",
      "Model:             Multinomial Logit Model   Df Residuals:                    1,661\n",
      "Method:                                MLE   Df Model:                            9\n",
      "Date:                     Wed, 09 Nov 2016   Pseudo R-squ.:                   0.000\n",
      "Time:                             12:42:26   Pseudo R-bar-squ.:              -0.005\n",
      "converged:                           False   Log-Likelihood:             -1,834.683\n",
      "                                             LL-Null:                    -1,834.683\n",
      "===============================================================================\n",
      "                  coef    std err          z      P>|z|      [95.0% Conf. Int.]\n",
      "-------------------------------------------------------------------------------\n",
      "asc_drive1      0.6641      0.203      3.267      0.001         0.266     1.063\n",
      "asc_drive1     -0.1321      0.218     -0.607      0.544        -0.559     0.294\n",
      "asc_bus1        8.3547      0.191     43.846      0.000         7.981     8.728\n",
      "asc_bus2        1.7155      0.249      6.896      0.000         1.228     2.203\n",
      "asc_train       9.8273      0.190     51.661      0.000         9.454    10.200\n",
      "asc_bike       -5.6794      0.187    -30.378      0.000        -6.046    -5.313\n",
      "travel time -2318.0007      0.001  -2.13e+06      0.000     -2318.003 -2317.999\n",
      "travel cost    43.1178      0.048    898.208      0.000        43.024    43.212\n",
      "emissions      51.7794      0.029   1796.299      0.000        51.723    51.836\n",
      "===============================================================================\n"
     ]
    }
   ],
   "source": [
    "m = pylogit.create_choice_model(data = data, \n",
    "                                alt_id_col = alt_id_col, \n",
    "                                obs_id_col = obs_id_col, \n",
    "                                choice_col = choice_col, \n",
    "                                specification = spec, \n",
    "                                model_type = \"MNL\", \n",
    "                                names=labels)\n",
    "\n",
    "m.fit_mle(init_vals = np.random.rand(9))\n",
    "print m.get_statsmodels_summary()"
   ]
  },
  {
   "cell_type": "code",
   "execution_count": null,
   "metadata": {
    "collapsed": true
   },
   "outputs": [],
   "source": []
  },
  {
   "cell_type": "markdown",
   "metadata": {},
   "source": [
    "### LCCM"
   ]
  },
  {
   "cell_type": "code",
   "execution_count": 34,
   "metadata": {
    "collapsed": true
   },
   "outputs": [],
   "source": [
    "# Class membership model\n",
    "\n",
    "n_classes = 2\n",
    "\n",
    "class_membership_spec = ['intercept', 'GENDER', 'VEG', 'INCOME', 'CAR_OWNER']\n",
    "class_membership_labels = ['ASC', 'Gender', 'Vegetarian', 'Income', 'Car owner']"
   ]
  },
  {
   "cell_type": "code",
   "execution_count": 54,
   "metadata": {
    "collapsed": false
   },
   "outputs": [],
   "source": [
    "# Class-specific choice model\n",
    "\n",
    "class_specific_specs = [spec, spec]\n",
    "class_specific_labels = [labels, labels]"
   ]
  },
  {
   "cell_type": "code",
   "execution_count": null,
   "metadata": {
    "collapsed": false
   },
   "outputs": [],
   "source": []
  },
  {
   "cell_type": "code",
   "execution_count": null,
   "metadata": {
    "collapsed": true
   },
   "outputs": [],
   "source": []
  },
  {
   "cell_type": "code",
   "execution_count": null,
   "metadata": {
    "collapsed": true
   },
   "outputs": [],
   "source": []
  },
  {
   "cell_type": "code",
   "execution_count": 56,
   "metadata": {
    "collapsed": false,
    "scrolled": false
   },
   "outputs": [
    {
     "name": "stdout",
     "output_type": "stream",
     "text": [
      "Processing data\n",
      "Initializing EM Algorithm...\n",
      "\n",
      "<Wed, 09 Nov 2016 12:26:25> Iteration 0: -1543.0645\n",
      "<Wed, 09 Nov 2016 12:26:25> Iteration 1: -1414.2009\n",
      "<Wed, 09 Nov 2016 12:26:25> Iteration 2: -1399.9768\n",
      "<Wed, 09 Nov 2016 12:26:25> Iteration 3: -1394.9844\n",
      "<Wed, 09 Nov 2016 12:26:25> Iteration 4: -1392.0182\n",
      "<Wed, 09 Nov 2016 12:26:25> Iteration 5: -1389.8924\n",
      "<Wed, 09 Nov 2016 12:26:25> Iteration 6: -1388.3465\n",
      "<Wed, 09 Nov 2016 12:26:25> Iteration 7: -1387.2348\n",
      "<Wed, 09 Nov 2016 12:26:25> Iteration 8: -1386.4450\n",
      "<Wed, 09 Nov 2016 12:26:25> Iteration 9: -1385.8908\n",
      "<Wed, 09 Nov 2016 12:26:25> Iteration 10: -1385.5080\n",
      "<Wed, 09 Nov 2016 12:26:25> Iteration 11: -1385.2488\n",
      "<Wed, 09 Nov 2016 12:26:25> Iteration 12: -1385.0771\n",
      "<Wed, 09 Nov 2016 12:26:26> Iteration 13: -1384.9659\n",
      "<Wed, 09 Nov 2016 12:26:26> Iteration 14: -1384.8952\n",
      "<Wed, 09 Nov 2016 12:26:26> Iteration 15: -1384.8511\n",
      "<Wed, 09 Nov 2016 12:26:26> Iteration 16: -1384.8240\n",
      "<Wed, 09 Nov 2016 12:26:26> Iteration 17: -1384.8076\n",
      "<Wed, 09 Nov 2016 12:26:26> Iteration 18: -1384.7977\n",
      "<Wed, 09 Nov 2016 12:26:26> Iteration 19: -1384.7917\n",
      "<Wed, 09 Nov 2016 12:26:26> Iteration 20: -1384.7882\n",
      "<Wed, 09 Nov 2016 12:26:26> Iteration 21: -1384.7861\n",
      "<Wed, 09 Nov 2016 12:26:26> Iteration 22: -1384.7849\n",
      "<Wed, 09 Nov 2016 12:26:26> Iteration 23: -1384.7842\n",
      "<Wed, 09 Nov 2016 12:26:26> Iteration 24: -1384.7838\n",
      "<Wed, 09 Nov 2016 12:26:26> Iteration 25: -1384.7835\n",
      "<Wed, 09 Nov 2016 12:26:27> Iteration 26: -1384.7834\n",
      "<Wed, 09 Nov 2016 12:26:27> Iteration 27: -1384.7833\n",
      "\n",
      "\n",
      "Number of Parameters:                                 23\n",
      "Number of Observations:                             1670\n",
      "Null Log-Likelihood:                            -1834.68\n",
      "Fitted Log-Likelihood:                          -1384.78\n",
      "Rho-Squared:                                        0.25\n",
      "Rho-Bar-Squared:                                    0.23\n",
      "AIC:                                             2815.57\n",
      "BIC:                                              2940.0\n",
      "Estimation time (minutes):                          0.03\n",
      "\n",
      "\n",
      "\n",
      "Class 1 Model: \n",
      "-----------------------------------------------------------------------------------------\n",
      "Variables                                     parameters    std_err     t_stat    p_value\n",
      "-----------------------------------------------------------------------------------------\n",
      "['asc_drive1', 'asc_drive1', 'asc_bus1', 'asc_bus2', 'asc_train', 'asc_bike']    -1.4494     0.3486    -4.1571     0.0000\n",
      "['travel time']                                  -1.3176     0.3769    -3.4961     0.0005\n",
      "['travel cost']                                  -0.4517     0.2581    -1.7497     0.0802\n",
      "['emissions']                                     0.3173     0.4624     0.6861     0.4926\n",
      "-----------------------------------------------------------------------------------------\n",
      "\n",
      "Class 2 Model: \n",
      "-----------------------------------------------------------------------------------------\n",
      "Variables                                     parameters    std_err     t_stat    p_value\n",
      "-----------------------------------------------------------------------------------------\n",
      "['asc_drive1', 'asc_drive1', 'asc_bus1', 'asc_bus2', 'asc_train', 'asc_bike']    14.2584     0.1532    93.0524     0.0000\n",
      "['travel time']                                  14.3121     0.1697    84.3417     0.0000\n",
      "['travel cost']                                  14.7816     0.1165   126.8605     0.0000\n",
      "['emissions']                                    14.4127     0.2286    63.0343     0.0000\n",
      "-----------------------------------------------------------------------------------------\n",
      "\n",
      "Class Membership Model:\n",
      "-----------------------------------------------------------------------------------------\n",
      "Variables                                     parameters    std_err     t_stat    p_value\n",
      "-----------------------------------------------------------------------------------------\n",
      "ASC (Class 2)                                     1.6944     0.9946     1.7036     0.0884\n",
      "Gender (Class 2)                                 -0.4830     0.3521    -1.3718     0.1701\n",
      "Vegetarian (Class 2)                             -0.7654     0.6256    -1.2236     0.2211\n",
      "Income (Class 2)                                 -0.0699     0.0966    -0.7240     0.4690\n",
      "Car owner (Class 2)                               0.2440     0.4451     0.5483     0.5835\n",
      "-----------------------------------------------------------------------------------------\n"
     ]
    }
   ],
   "source": [
    "lccm.lccm_fit(data = data,\n",
    "              ind_id_col = ind_id_col,\n",
    "              obs_id_col = obs_id_col,\n",
    "              alt_id_col = alt_id_col,\n",
    "              choice_col = choice_col,\n",
    "              n_classes = n_classes,\n",
    "              class_membership_spec = class_membership_spec,\n",
    "              class_membership_labels = class_membership_labels,\n",
    "              class_specific_specs = class_specific_specs,\n",
    "              class_specific_labels = class_specific_labels)"
   ]
  },
  {
   "cell_type": "code",
   "execution_count": null,
   "metadata": {
    "collapsed": true
   },
   "outputs": [],
   "source": []
  },
  {
   "cell_type": "code",
   "execution_count": null,
   "metadata": {
    "collapsed": true
   },
   "outputs": [],
   "source": []
  },
  {
   "cell_type": "code",
   "execution_count": null,
   "metadata": {
    "collapsed": true
   },
   "outputs": [],
   "source": []
  }
 ],
 "metadata": {
  "kernelspec": {
   "display_name": "Python 2",
   "language": "python",
   "name": "python2"
  },
  "language_info": {
   "codemirror_mode": {
    "name": "ipython",
    "version": 2
   },
   "file_extension": ".py",
   "mimetype": "text/x-python",
   "name": "python",
   "nbconvert_exporter": "python",
   "pygments_lexer": "ipython2",
   "version": "2.7.11"
  }
 },
 "nbformat": 4,
 "nbformat_minor": 0
}
