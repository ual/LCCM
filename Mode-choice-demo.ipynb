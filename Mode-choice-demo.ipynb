{
 "cells": [
  {
   "cell_type": "markdown",
   "metadata": {},
   "source": [
    "# Demo of MNL and LCCM for mode choice"
   ]
  },
  {
   "cell_type": "code",
   "execution_count": 1,
   "metadata": {
    "collapsed": false
   },
   "outputs": [],
   "source": [
    "import lccm\n",
    "import numpy as np\n",
    "import pandas as pd\n",
    "import pylogit\n",
    "from collections import OrderedDict"
   ]
  },
  {
   "cell_type": "markdown",
   "metadata": {},
   "source": [
    "### Load data"
   ]
  },
  {
   "cell_type": "code",
   "execution_count": 2,
   "metadata": {
    "collapsed": false
   },
   "outputs": [],
   "source": [
    "df = pd.DataFrame.from_csv('data/valueOfGreen.dat', sep='\\t', index_col=None)"
   ]
  },
  {
   "cell_type": "code",
   "execution_count": 3,
   "metadata": {
    "collapsed": false
   },
   "outputs": [
    {
     "data": {
      "text/plain": [
       "array(['ID', 'Question', 'CHOICE', 'A1_AV', 'A2_AV', 'B1_AV', 'B2_AV',\n",
       "       'T_AV', 'K_AV', 'W_AV', 'TT_A1', 'C_A1', 'GG_A1', 'TT_A2', 'C_A2',\n",
       "       'GG_A2', 'TT_B1', 'C_B1', 'GG_B1', 'TT_B2', 'C_B2', 'GG_B2', 'TT_T',\n",
       "       'C_T', 'GG_T', 'TT_K', 'TT_W', 'GENDER', 'VEG', 'CAR_OWNER',\n",
       "       'INCOME', 'INDENV1', 'INDENV2', 'INDENV3', 'INDENV4', 'INDENV5',\n",
       "       'INDENV6', 'INDENV7', 'INDENV8', 'INDENV9', 'INDENV10', 'INDENV11',\n",
       "       'INDENV12', 'INDPT1', 'INDPT2', 'INDPT3', 'INDPT4', 'INDPT5',\n",
       "       'INDAUTO1', 'INDAUTO2', 'INDAUTO3', 'INDAUTO4', 'INDAUTO5',\n",
       "       'INDAUTO6', 'INDAUTO7'], dtype=object)"
      ]
     },
     "execution_count": 3,
     "metadata": {},
     "output_type": "execute_result"
    }
   ],
   "source": [
    "df.columns.values"
   ]
  },
  {
   "cell_type": "markdown",
   "metadata": {
    "collapsed": true
   },
   "source": [
    "### Alternative id's\n",
    "\n",
    "- 1 = Auto 1\n",
    "- 2 = Auto 2\n",
    "- 3 = Bus 1\n",
    "- 4 = Bus 2\n",
    "- 5 = Train\n",
    "- 6 = Walk\n",
    "- 7 = Bicycle"
   ]
  },
  {
   "cell_type": "markdown",
   "metadata": {},
   "source": [
    "### Convert from wide format to long format"
   ]
  },
  {
   "cell_type": "code",
   "execution_count": 5,
   "metadata": {
    "collapsed": false
   },
   "outputs": [],
   "source": [
    "ind_vars = ['ID', 'GENDER', 'VEG', 'CAR_OWNER', 'INCOME']\n",
    "\n",
    "alt_varying_vars = {'travel_time': dict([(1, 'TT_A1'), (2, 'TT_A2'), (3, 'TT_B1'), \n",
    "                                (4, 'TT_B2'), (5, 'TT_T'), (6, 'TT_K'), (7, 'TT_W')]),\n",
    "                    'travel_cost': dict([(1, 'C_A1'), (2, 'C_A2'), (3, 'C_B1'),\n",
    "                                (4, 'C_B2'), (5, 'C_T')]),\n",
    "                    'emissions': dict([(1, 'GG_A1'), (2, 'GG_A2'), (3, 'GG_B1'), \n",
    "                                (4, 'GG_B2'), (5, 'GG_T')])}\n",
    "\n",
    "availability_vars = {1: 'A1_AV', 2: 'A2_AV', 3: 'B1_AV', 4: 'B2_AV', 5: 'T_AV', 6: 'K_AV', 7: 'W_AV'}\n",
    "\n",
    "alt_id_col = 'ALT_ID'\n",
    "\n",
    "# 'ID' is the decision-maker, but there are multiple observations (choice scenarios) for each\n",
    "df['OBS_ID'] = np.arange(df.shape[0], dtype=int) + 1\n",
    "obs_id_col = 'OBS_ID'\n",
    "\n",
    "choice_col = 'CHOICE'\n",
    "\n",
    "data = pylogit.convert_wide_to_long(df, ind_vars, alt_varying_vars, \n",
    "                availability_vars, obs_id_col, choice_col, new_alt_id_name=alt_id_col)"
   ]
  },
  {
   "cell_type": "code",
   "execution_count": 6,
   "metadata": {
    "collapsed": false
   },
   "outputs": [
    {
     "data": {
      "text/html": [
       "<div>\n",
       "<table border=\"1\" class=\"dataframe\">\n",
       "  <thead>\n",
       "    <tr style=\"text-align: right;\">\n",
       "      <th></th>\n",
       "      <th>OBS_ID</th>\n",
       "      <th>ALT_ID</th>\n",
       "      <th>CHOICE</th>\n",
       "      <th>ID</th>\n",
       "      <th>GENDER</th>\n",
       "      <th>VEG</th>\n",
       "      <th>CAR_OWNER</th>\n",
       "      <th>INCOME</th>\n",
       "      <th>travel_time</th>\n",
       "      <th>emissions</th>\n",
       "      <th>travel_cost</th>\n",
       "    </tr>\n",
       "  </thead>\n",
       "  <tbody>\n",
       "    <tr>\n",
       "      <th>count</th>\n",
       "      <td>5010.000000</td>\n",
       "      <td>5010.000000</td>\n",
       "      <td>5010.000000</td>\n",
       "      <td>5010.000000</td>\n",
       "      <td>5010.000000</td>\n",
       "      <td>5010.000000</td>\n",
       "      <td>5010.000000</td>\n",
       "      <td>5010.000000</td>\n",
       "      <td>5010.000000</td>\n",
       "      <td>5010.000000</td>\n",
       "      <td>5010.000000</td>\n",
       "    </tr>\n",
       "    <tr>\n",
       "      <th>mean</th>\n",
       "      <td>835.500000</td>\n",
       "      <td>3.833333</td>\n",
       "      <td>0.333333</td>\n",
       "      <td>167.500000</td>\n",
       "      <td>1.586826</td>\n",
       "      <td>0.062874</td>\n",
       "      <td>1.847305</td>\n",
       "      <td>1.254491</td>\n",
       "      <td>46.968663</td>\n",
       "      <td>2.670619</td>\n",
       "      <td>1.901547</td>\n",
       "    </tr>\n",
       "    <tr>\n",
       "      <th>std</th>\n",
       "      <td>482.135508</td>\n",
       "      <td>2.034629</td>\n",
       "      <td>0.471452</td>\n",
       "      <td>96.426687</td>\n",
       "      <td>0.498497</td>\n",
       "      <td>0.242761</td>\n",
       "      <td>0.428145</td>\n",
       "      <td>1.642938</td>\n",
       "      <td>63.853640</td>\n",
       "      <td>2.652327</td>\n",
       "      <td>1.727593</td>\n",
       "    </tr>\n",
       "    <tr>\n",
       "      <th>min</th>\n",
       "      <td>1.000000</td>\n",
       "      <td>1.000000</td>\n",
       "      <td>0.000000</td>\n",
       "      <td>1.000000</td>\n",
       "      <td>1.000000</td>\n",
       "      <td>0.000000</td>\n",
       "      <td>1.000000</td>\n",
       "      <td>0.000000</td>\n",
       "      <td>8.000000</td>\n",
       "      <td>0.000000</td>\n",
       "      <td>0.000000</td>\n",
       "    </tr>\n",
       "    <tr>\n",
       "      <th>25%</th>\n",
       "      <td>418.000000</td>\n",
       "      <td>2.000000</td>\n",
       "      <td>0.000000</td>\n",
       "      <td>84.000000</td>\n",
       "      <td>1.000000</td>\n",
       "      <td>0.000000</td>\n",
       "      <td>2.000000</td>\n",
       "      <td>1.000000</td>\n",
       "      <td>15.000000</td>\n",
       "      <td>0.000000</td>\n",
       "      <td>0.000000</td>\n",
       "    </tr>\n",
       "    <tr>\n",
       "      <th>50%</th>\n",
       "      <td>835.500000</td>\n",
       "      <td>3.500000</td>\n",
       "      <td>0.000000</td>\n",
       "      <td>167.500000</td>\n",
       "      <td>2.000000</td>\n",
       "      <td>0.000000</td>\n",
       "      <td>2.000000</td>\n",
       "      <td>1.000000</td>\n",
       "      <td>30.000000</td>\n",
       "      <td>2.300000</td>\n",
       "      <td>1.500000</td>\n",
       "    </tr>\n",
       "    <tr>\n",
       "      <th>75%</th>\n",
       "      <td>1253.000000</td>\n",
       "      <td>6.000000</td>\n",
       "      <td>1.000000</td>\n",
       "      <td>251.000000</td>\n",
       "      <td>2.000000</td>\n",
       "      <td>0.000000</td>\n",
       "      <td>2.000000</td>\n",
       "      <td>1.000000</td>\n",
       "      <td>60.000000</td>\n",
       "      <td>4.500000</td>\n",
       "      <td>3.000000</td>\n",
       "    </tr>\n",
       "    <tr>\n",
       "      <th>max</th>\n",
       "      <td>1670.000000</td>\n",
       "      <td>7.000000</td>\n",
       "      <td>1.000000</td>\n",
       "      <td>334.000000</td>\n",
       "      <td>3.000000</td>\n",
       "      <td>1.000000</td>\n",
       "      <td>3.000000</td>\n",
       "      <td>9.000000</td>\n",
       "      <td>400.000000</td>\n",
       "      <td>10.000000</td>\n",
       "      <td>6.000000</td>\n",
       "    </tr>\n",
       "  </tbody>\n",
       "</table>\n",
       "</div>"
      ],
      "text/plain": [
       "            OBS_ID       ALT_ID       CHOICE           ID       GENDER  \\\n",
       "count  5010.000000  5010.000000  5010.000000  5010.000000  5010.000000   \n",
       "mean    835.500000     3.833333     0.333333   167.500000     1.586826   \n",
       "std     482.135508     2.034629     0.471452    96.426687     0.498497   \n",
       "min       1.000000     1.000000     0.000000     1.000000     1.000000   \n",
       "25%     418.000000     2.000000     0.000000    84.000000     1.000000   \n",
       "50%     835.500000     3.500000     0.000000   167.500000     2.000000   \n",
       "75%    1253.000000     6.000000     1.000000   251.000000     2.000000   \n",
       "max    1670.000000     7.000000     1.000000   334.000000     3.000000   \n",
       "\n",
       "               VEG    CAR_OWNER       INCOME  travel_time    emissions  \\\n",
       "count  5010.000000  5010.000000  5010.000000  5010.000000  5010.000000   \n",
       "mean      0.062874     1.847305     1.254491    46.968663     2.670619   \n",
       "std       0.242761     0.428145     1.642938    63.853640     2.652327   \n",
       "min       0.000000     1.000000     0.000000     8.000000     0.000000   \n",
       "25%       0.000000     2.000000     1.000000    15.000000     0.000000   \n",
       "50%       0.000000     2.000000     1.000000    30.000000     2.300000   \n",
       "75%       0.000000     2.000000     1.000000    60.000000     4.500000   \n",
       "max       1.000000     3.000000     9.000000   400.000000    10.000000   \n",
       "\n",
       "       travel_cost  \n",
       "count  5010.000000  \n",
       "mean      1.901547  \n",
       "std       1.727593  \n",
       "min       0.000000  \n",
       "25%       0.000000  \n",
       "50%       1.500000  \n",
       "75%       3.000000  \n",
       "max       6.000000  "
      ]
     },
     "execution_count": 6,
     "metadata": {},
     "output_type": "execute_result"
    }
   ],
   "source": [
    "data.describe()"
   ]
  },
  {
   "cell_type": "markdown",
   "metadata": {
    "collapsed": false
   },
   "source": [
    "### Label important columns"
   ]
  },
  {
   "cell_type": "code",
   "execution_count": 7,
   "metadata": {
    "collapsed": true
   },
   "outputs": [],
   "source": [
    "ind_id_col = 'ID'\n",
    "obs_id_col = 'OBS_ID'\n",
    "alt_id_col = 'ALT_ID'\n",
    "choice_col = 'CHOICE'"
   ]
  },
  {
   "cell_type": "markdown",
   "metadata": {},
   "source": [
    "### Multinomial logit"
   ]
  },
  {
   "cell_type": "code",
   "execution_count": 14,
   "metadata": {
    "collapsed": false
   },
   "outputs": [],
   "source": [
    "# base case is alt_id = 7 (walking)\n",
    "\n",
    "spec =  OrderedDict([\n",
    "            ('intercept', [1, 2, 3, 4, 5, 6]),\n",
    "            ('travel_time', [[1, 2, 3, 4, 5, 6, 7]]),\n",
    "            ('travel_cost', [[1, 2, 3, 4, 5, 6, 7]]),\n",
    "            ('emissions', [[1, 2, 3, 4, 5, 6, 7]])\n",
    "        ])\n",
    "\n",
    "labels = OrderedDict([\n",
    "            ('intercept', ['asc_drive1', 'asc_drive2', 'asc_bus1', 'asc_bus2', 'asc_train', 'asc_bike']),\n",
    "            ('travel_time', ['travel time']), \n",
    "            ('travel_cost', ['travel cost']),\n",
    "            ('emissions', ['emissions'])\n",
    "        ])"
   ]
  },
  {
   "cell_type": "code",
   "execution_count": 15,
   "metadata": {
    "collapsed": false
   },
   "outputs": [
    {
     "name": "stdout",
     "output_type": "stream",
     "text": [
      "Log-likelihood at zero: -1,834.6825\n",
      "Initial Log-likelihood: -36,851.2566\n",
      "Estimation Time: 0.05 seconds.\n",
      "Final log-likelihood: -1,834.6825\n",
      "                     Multinomial Logit Model Regression Results                    \n",
      "===================================================================================\n",
      "Dep. Variable:                      CHOICE   No. Observations:                1,670\n",
      "Model:             Multinomial Logit Model   Df Residuals:                    1,661\n",
      "Method:                                MLE   Df Model:                            9\n",
      "Date:                     Wed, 09 Nov 2016   Pseudo R-squ.:                   0.000\n",
      "Time:                             13:37:37   Pseudo R-bar-squ.:              -0.005\n",
      "converged:                           False   Log-Likelihood:             -1,834.683\n",
      "                                             LL-Null:                    -1,834.683\n",
      "===============================================================================\n",
      "                  coef    std err          z      P>|z|      [95.0% Conf. Int.]\n",
      "-------------------------------------------------------------------------------\n",
      "asc_drive1      1.5005      0.203      7.381      0.000         1.102     1.899\n",
      "asc_drive2     -0.0731      0.218     -0.336      0.737        -0.500     0.353\n",
      "asc_bus1        8.0567      0.191     42.282      0.000         7.683     8.430\n",
      "asc_bus2        1.7602      0.249      7.076      0.000         1.273     2.248\n",
      "asc_train       9.3678      0.190     49.245      0.000         8.995     9.741\n",
      "asc_bike       -5.7288      0.187    -30.642      0.000        -6.095    -5.362\n",
      "travel time -2306.5377      0.001  -2.12e+06      0.000     -2306.540 -2306.536\n",
      "travel cost    42.5689      0.048    886.774      0.000        42.475    42.663\n",
      "emissions      53.1274      0.029   1843.064      0.000        53.071    53.184\n",
      "===============================================================================\n"
     ]
    }
   ],
   "source": [
    "m = pylogit.create_choice_model(data = data, \n",
    "                                alt_id_col = alt_id_col, \n",
    "                                obs_id_col = obs_id_col, \n",
    "                                choice_col = choice_col, \n",
    "                                specification = spec, \n",
    "                                model_type = \"MNL\", \n",
    "                                names=labels)\n",
    "\n",
    "m.fit_mle(init_vals = np.random.rand(9))\n",
    "print m.get_statsmodels_summary()"
   ]
  },
  {
   "cell_type": "code",
   "execution_count": null,
   "metadata": {
    "collapsed": true
   },
   "outputs": [],
   "source": []
  },
  {
   "cell_type": "markdown",
   "metadata": {},
   "source": [
    "### LCCM"
   ]
  },
  {
   "cell_type": "code",
   "execution_count": 16,
   "metadata": {
    "collapsed": true
   },
   "outputs": [],
   "source": [
    "# Class membership model\n",
    "\n",
    "n_classes = 2\n",
    "\n",
    "class_membership_spec = ['intercept', 'GENDER', 'VEG', 'INCOME', 'CAR_OWNER']\n",
    "class_membership_labels = ['ASC', 'Gender', 'Vegetarian', 'Income', 'Car owner']"
   ]
  },
  {
   "cell_type": "code",
   "execution_count": 17,
   "metadata": {
    "collapsed": false
   },
   "outputs": [],
   "source": [
    "# Class-specific choice model\n",
    "\n",
    "class_specific_specs = [spec, spec]\n",
    "class_specific_labels = [labels, labels]"
   ]
  },
  {
   "cell_type": "code",
   "execution_count": null,
   "metadata": {
    "collapsed": true
   },
   "outputs": [],
   "source": []
  },
  {
   "cell_type": "code",
   "execution_count": 18,
   "metadata": {
    "collapsed": false,
    "scrolled": false
   },
   "outputs": [
    {
     "name": "stdout",
     "output_type": "stream",
     "text": [
      "Processing data\n",
      "Initializing EM Algorithm...\n",
      "\n",
      "<Wed, 09 Nov 2016 13:37:43> Iteration 0: -1531.8303\n",
      "<Wed, 09 Nov 2016 13:37:43> Iteration 1: -1401.3461\n",
      "<Wed, 09 Nov 2016 13:37:43> Iteration 2: -1393.8490\n",
      "<Wed, 09 Nov 2016 13:37:43> Iteration 3: -1390.8795\n",
      "<Wed, 09 Nov 2016 13:37:43> Iteration 4: -1388.9969\n",
      "<Wed, 09 Nov 2016 13:37:43> Iteration 5: -1387.6853\n",
      "<Wed, 09 Nov 2016 13:37:43> Iteration 6: -1386.7621\n",
      "<Wed, 09 Nov 2016 13:37:43> Iteration 7: -1386.1138\n",
      "<Wed, 09 Nov 2016 13:37:43> Iteration 8: -1385.6626\n",
      "<Wed, 09 Nov 2016 13:37:43> Iteration 9: -1385.3536\n",
      "<Wed, 09 Nov 2016 13:37:43> Iteration 10: -1385.1463\n",
      "<Wed, 09 Nov 2016 13:37:43> Iteration 11: -1385.0105\n",
      "<Wed, 09 Nov 2016 13:37:43> Iteration 12: -1384.9234\n",
      "<Wed, 09 Nov 2016 13:37:43> Iteration 13: -1384.8686\n",
      "<Wed, 09 Nov 2016 13:37:43> Iteration 14: -1384.8348\n",
      "<Wed, 09 Nov 2016 13:37:44> Iteration 15: -1384.8141\n",
      "<Wed, 09 Nov 2016 13:37:44> Iteration 16: -1384.8016\n",
      "<Wed, 09 Nov 2016 13:37:44> Iteration 17: -1384.7941\n",
      "<Wed, 09 Nov 2016 13:37:44> Iteration 18: -1384.7896\n",
      "<Wed, 09 Nov 2016 13:37:44> Iteration 19: -1384.7870\n",
      "<Wed, 09 Nov 2016 13:37:44> Iteration 20: -1384.7854\n",
      "<Wed, 09 Nov 2016 13:37:44> Iteration 21: -1384.7845\n",
      "<Wed, 09 Nov 2016 13:37:44> Iteration 22: -1384.7839\n",
      "<Wed, 09 Nov 2016 13:37:44> Iteration 23: -1384.7836\n",
      "<Wed, 09 Nov 2016 13:37:44> Iteration 24: -1384.7834\n",
      "<Wed, 09 Nov 2016 13:37:45> Iteration 25: -1384.7833\n",
      "<Wed, 09 Nov 2016 13:37:45> Iteration 26: -1384.7833\n",
      "\n",
      "\n",
      "Number of Parameters:                                 23\n",
      "Number of Observations:                             1670\n",
      "Null Log-Likelihood:                            -1834.68\n",
      "Fitted Log-Likelihood:                          -1384.78\n",
      "Rho-Squared:                                        0.25\n",
      "Rho-Bar-Squared:                                    0.23\n",
      "AIC:                                             2815.57\n",
      "BIC:                                              2940.0\n",
      "Estimation time (minutes):                          0.03\n",
      "\n",
      "\n",
      "\n",
      "Class 1 Model: \n",
      "-----------------------------------------------------------------------------------------\n",
      "Variables                                     parameters    std_err     t_stat    p_value\n",
      "-----------------------------------------------------------------------------------------\n",
      "asc_drive1                                       13.8290     0.1532    90.2554     0.0000\n",
      "asc_drive2                                       13.8826     0.1697    81.8159     0.0000\n",
      "asc_bus1                                         14.3522     0.1165   123.1828     0.0000\n",
      "asc_bus2                                         13.9833     0.2286    61.1607     0.0000\n",
      "asc_train                                        14.3777     0.1251   114.9563     0.0000\n",
      "asc_bike                                         14.6901     0.1690    86.9276     0.0000\n",
      "travel time                                      -0.1229     0.0038   -32.6016     0.0000\n",
      "travel cost                                      -0.4860     0.0659    -7.3736     0.0000\n",
      "emissions                                        -0.0555     0.0399    -1.3890     0.1648\n",
      "-----------------------------------------------------------------------------------------\n",
      "\n",
      "Class 2 Model: \n",
      "-----------------------------------------------------------------------------------------\n",
      "Variables                                     parameters    std_err     t_stat    p_value\n",
      "-----------------------------------------------------------------------------------------\n",
      "asc_drive1                                       -1.4496     0.3487    -4.1574     0.0000\n",
      "asc_drive2                                       -1.3179     0.3769    -3.4965     0.0005\n",
      "asc_bus1                                         -0.4519     0.2582    -1.7505     0.0800\n",
      "asc_bus2                                          0.3171     0.4624     0.6858     0.4928\n",
      "asc_train                                        -0.0615     0.2466    -0.2493     0.8031\n",
      "asc_bike                                          0.4510     0.1941     2.3243     0.0201\n",
      "travel time                                      -0.0102     0.0012    -8.8477     0.0000\n",
      "travel cost                                      -0.3068     0.1201    -2.5537     0.0107\n",
      "emissions                                         0.0612     0.0778     0.7874     0.4310\n",
      "-----------------------------------------------------------------------------------------\n",
      "\n",
      "Class Membership Model:\n",
      "-----------------------------------------------------------------------------------------\n",
      "Variables                                     parameters    std_err     t_stat    p_value\n",
      "-----------------------------------------------------------------------------------------\n",
      "ASC (Class 2)                                    -1.6947     0.9946    -1.7039     0.0884\n",
      "Gender (Class 2)                                  0.4830     0.3521     1.3717     0.1701\n",
      "Vegetarian (Class 2)                              0.7654     0.6256     1.2235     0.2211\n",
      "Income (Class 2)                                  0.0700     0.0966     0.7241     0.4690\n",
      "Car owner (Class 2)                              -0.2440     0.4451    -0.5482     0.5835\n",
      "-----------------------------------------------------------------------------------------\n"
     ]
    }
   ],
   "source": [
    "lccm.lccm_fit(data = data,\n",
    "              ind_id_col = ind_id_col,\n",
    "              obs_id_col = obs_id_col,\n",
    "              alt_id_col = alt_id_col,\n",
    "              choice_col = choice_col,\n",
    "              n_classes = n_classes,\n",
    "              class_membership_spec = class_membership_spec,\n",
    "              class_membership_labels = class_membership_labels,\n",
    "              class_specific_specs = class_specific_specs,\n",
    "              class_specific_labels = class_specific_labels)"
   ]
  },
  {
   "cell_type": "code",
   "execution_count": null,
   "metadata": {
    "collapsed": true
   },
   "outputs": [],
   "source": []
  },
  {
   "cell_type": "code",
   "execution_count": null,
   "metadata": {
    "collapsed": true
   },
   "outputs": [],
   "source": []
  },
  {
   "cell_type": "code",
   "execution_count": null,
   "metadata": {
    "collapsed": true
   },
   "outputs": [],
   "source": []
  }
 ],
 "metadata": {
  "kernelspec": {
   "display_name": "Python 2",
   "language": "python",
   "name": "python2"
  },
  "language_info": {
   "codemirror_mode": {
    "name": "ipython",
    "version": 2
   },
   "file_extension": ".py",
   "mimetype": "text/x-python",
   "name": "python",
   "nbconvert_exporter": "python",
   "pygments_lexer": "ipython2",
   "version": "2.7.11"
  }
 },
 "nbformat": 4,
 "nbformat_minor": 0
}
